{
 "cells": [
  {
   "cell_type": "code",
   "execution_count": 1,
   "metadata": {
    "collapsed": true
   },
   "outputs": [],
   "source": [
    "import random\n",
    "import networkx as nx\n",
    "from pyvis.network import Network\n",
    "import matplotlib.pyplot as plt\n",
    "import math\n"
   ]
  },
  {
   "cell_type": "code",
   "execution_count": 2,
   "metadata": {
    "collapsed": true
   },
   "outputs": [],
   "source": [
    "# current notable shortfalls: reinfection is just as likely as primary infection, the model is oversimplified jank\n",
    "\n",
    "tot = 200 # number of people\n",
    "friends = 3 # number of contacts generated for each person; note that we end up with more than tot*friends connections because of lolcode\n",
    "steps = 5\n",
    "p_infection = 0.2 # assumption about the probability of getting infected from a single infected contact in 1 time step\n",
    "duration = 10 # assumption about how long after getting infected you remain infectious\n",
    "adoption_p = 0.1 # what fraction of the population has the app\n"
   ]
  },
  {
   "cell_type": "code",
   "execution_count": null,
   "metadata": {
    "collapsed": true
   },
   "outputs": [],
   "source": []
  },
  {
   "cell_type": "code",
   "execution_count": 3,
   "metadata": {},
   "outputs": [
    {
     "name": "stdout",
     "output_type": "stream",
     "text": [
      "Start\n",
      "{0: [122, 84, 164, 113], 1: [141, 150, 198], 2: [7, 144, 175, 47, 111], 3: [31, 159, 197, 104], 4: [74, 31, 93], 5: [80, 18, 41, 48, 87], 6: [42, 174, 93, 185], 7: [2, 135, 153, 141], 8: [114, 83, 177, 90], 9: [139, 111, 178, 35, 99, 134], 10: [30, 114, 199, 36, 87], 11: [86, 129, 14, 166], 12: [165, 169, 57, 129], 13: [19, 27, 128, 68, 117, 127, 195], 14: [11, 187, 129, 66], 15: [93, 27, 189, 185], 16: [98, 83, 29, 120], 17: [153, 110, 145, 45, 55], 18: [5, 37, 41, 129], 19: [13, 95, 170, 34, 143], 20: [72, 173, 33], 21: [188, 72, 198], 22: [169, 128, 111, 25, 178], 23: [116, 56, 69, 47, 81, 96, 97], 24: [195, 82, 178, 43, 74, 109, 142, 152, 181, 185], 25: [68, 194, 22, 38, 58, 112, 181], 26: [157, 89, 136, 69, 100], 27: [13, 15, 101], 28: [59, 136, 95, 32, 67, 189], 29: [16, 109, 44, 63, 85, 169], 30: [10, 84, 147, 130, 139, 161], 31: [3, 4, 126, 139], 32: [28, 119, 104, 106, 144, 173], 33: [20, 149, 193, 40, 70, 198], 34: [171, 37, 19, 50], 35: [9, 155, 129, 140], 36: [10, 135, 138, 134], 37: [18, 34, 64, 44, 58, 159], 38: [25, 46, 39, 67, 112], 39: [38, 115, 116, 71, 186], 40: [143, 33, 182, 121, 125], 41: [5, 18, 163, 43], 42: [6, 97, 184, 64, 186], 43: [159, 24, 41, 111], 44: [29, 64, 37], 45: [117, 17, 187, 70, 76, 108, 158, 197], 46: [38, 67, 102, 118], 47: [23, 2, 121, 97], 48: [150, 195, 5, 91, 112, 154], 49: [54, 177, 70, 94], 50: [169, 182, 34, 84, 88], 51: [72, 132, 137, 89, 141, 184], 52: [178, 82, 179, 81, 110], 53: [123, 62, 179], 54: [49, 93, 91], 55: [17, 57, 119], 56: [23, 130, 117, 108, 111, 188, 195], 57: [12, 55, 196, 181], 58: [25, 176, 37, 74, 94], 59: [28, 101, 124, 105], 60: [151, 165, 126, 90], 61: [149, 72, 62, 191], 62: [53, 61, 183], 63: [29, 132, 77, 124], 64: [37, 44, 42, 101], 65: [171, 126, 186], 66: [116, 111, 14, 167], 67: [46, 38, 28, 81, 113], 68: [25, 13, 83], 69: [23, 26, 184], 70: [49, 33, 45, 146], 71: [77, 95, 39, 109], 72: [20, 21, 51, 61, 131, 174, 196, 76, 85, 137], 73: [103, 101, 80, 149], 74: [4, 58, 24], 75: [123, 122, 167, 92], 76: [72, 45, 80, 155], 77: [63, 71, 187], 78: [106, 101, 157, 133, 161, 169], 79: [191, 99, 135, 134, 151], 80: [5, 73, 76], 81: [23, 67, 52, 82, 94], 82: [24, 52, 81, 103, 160], 83: [8, 16, 68, 180], 84: [0, 30, 50], 85: [182, 29, 72], 86: [11, 103, 129], 87: [5, 10, 183, 197], 88: [50, 196, 152], 89: [26, 131, 51, 99], 90: [8, 162, 60, 91, 160], 91: [54, 90, 48, 150], 92: [157, 75, 168, 129], 93: [4, 6, 15, 54, 100, 197, 131, 159], 94: [81, 58, 49, 124], 95: [19, 28, 71, 101, 184], 96: [172, 197, 23], 97: [42, 23, 47], 98: [16, 102, 100, 151], 99: [79, 9, 89, 168], 100: [93, 98, 26, 166], 101: [27, 59, 73, 78, 95, 64, 128], 102: [46, 98, 158], 103: [73, 86, 82], 104: [32, 155, 3], 105: [120, 161, 59, 199], 106: [78, 32, 190, 175], 107: [111, 129, 171, 192, 195], 108: [197, 45, 56, 170], 109: [29, 71, 24, 113, 147, 160], 110: [17, 140, 52, 148, 164], 111: [9, 22, 66, 107, 43, 56, 2], 112: [48, 38, 25, 127, 137], 113: [109, 67, 0], 114: [8, 10, 178, 145, 147], 115: [39, 123, 184, 142, 178], 116: [23, 39, 66], 117: [45, 56, 13], 118: [172, 159, 46], 119: [32, 55, 191], 120: [105, 16, 146, 152], 121: [47, 40, 164, 168], 122: [0, 75, 194], 123: [53, 75, 115], 124: [59, 94, 63, 176], 125: [40, 167, 188], 126: [31, 60, 65, 156], 127: [13, 112, 146], 128: [13, 22, 101], 129: [11, 14, 35, 86, 107, 12, 92, 18], 130: [56, 159, 30], 131: [72, 89, 93], 132: [51, 63, 195, 156], 133: [136, 78, 184], 134: [79, 9, 36, 199], 135: [7, 36, 79], 136: [26, 28, 133], 137: [51, 112, 72, 144], 138: [36, 179, 180], 139: [9, 30, 31], 140: [110, 165, 35, 142, 189], 141: [1, 7, 51], 142: [24, 115, 140], 143: [40, 174, 19], 144: [2, 32, 137], 145: [17, 162, 114], 146: [120, 127, 70], 147: [30, 114, 109, 148, 175], 148: [110, 147, 190], 149: [33, 61, 73, 176], 150: [1, 48, 91, 192, 193], 151: [60, 98, 79, 156], 152: [88, 24, 120], 153: [7, 17, 169], 154: [197, 48, 158], 155: [35, 104, 76], 156: [132, 151, 126], 157: [26, 78, 92], 158: [102, 154, 45], 159: [3, 43, 118, 130, 93, 177, 37], 160: [109, 90, 82], 161: [105, 78, 30], 162: [90, 145, 195], 163: [41, 184, 178], 164: [0, 121, 110], 165: [12, 60, 140], 166: [11, 193, 100], 167: [75, 125, 66], 168: [92, 99, 121], 169: [12, 22, 50, 153, 194, 29, 78, 178], 170: [19, 108, 190, 173], 171: [34, 65, 107], 172: [96, 118, 183], 173: [20, 170, 32], 174: [6, 72, 143], 175: [2, 106, 147, 197], 176: [58, 149, 124], 177: [8, 49, 159], 178: [9, 24, 52, 114, 163, 22, 169, 115], 179: [52, 53, 138], 180: [138, 83, 192], 181: [57, 25, 24], 182: [40, 50, 85], 183: [62, 87, 172], 184: [42, 69, 115, 133, 163, 95, 51], 185: [6, 24, 15], 186: [65, 42, 39], 187: [14, 45, 77], 188: [21, 125, 56], 189: [15, 140, 28], 190: [106, 148, 170], 191: [79, 119, 61], 192: [180, 107, 150], 193: [33, 166, 150], 194: [25, 122, 169], 195: [24, 48, 132, 162, 13, 56, 107], 196: [57, 72, 88], 197: [3, 93, 96, 108, 154, 87, 175, 45], 198: [1, 21, 33], 199: [10, 134, 105]}\n",
      "[0] -----\n",
      "[122, 84, 164, 113] -----\n",
      "[0, 75, 194, 0, 30, 50, 0, 121, 110, 109, 67, 0] -----\n",
      "[123, 122, 167, 92, 25, 122, 169, 10, 84, 147, 130, 139, 161, 169, 182, 34, 84, 88, 47, 40, 164, 168, 17, 140, 52, 148, 164, 29, 71, 24, 113, 147, 160, 46, 38, 28, 81, 113] -----\n",
      "47\n",
      "28\n",
      "[53, 75, 115, 75, 125, 66, 157, 75, 168, 129, 68, 194, 22, 38, 58, 112, 181, 12, 22, 50, 153, 194, 29, 78, 178, 30, 114, 199, 36, 87, 30, 114, 109, 148, 175, 56, 159, 30, 9, 30, 31, 105, 78, 30, 40, 50, 85, 171, 37, 19, 50, 50, 196, 152, 23, 2, 121, 97, 143, 33, 182, 121, 125, 92, 99, 121, 153, 110, 145, 45, 55, 110, 165, 35, 142, 189, 178, 82, 179, 81, 110, 110, 147, 190, 16, 109, 44, 63, 85, 169, 77, 95, 39, 109, 195, 82, 178, 43, 74, 109, 142, 152, 181, 185, 109, 90, 82, 38, 67, 102, 118, 25, 46, 39, 67, 112, 59, 136, 95, 32, 67, 189, 23, 67, 52, 82, 94] -----\n",
      "175\n",
      "159\n",
      "2\n",
      "97\n",
      "32\n",
      "[123, 62, 179, 39, 123, 184, 142, 178, 40, 167, 188, 116, 111, 14, 167, 26, 78, 92, 11, 14, 35, 86, 107, 12, 92, 18, 25, 13, 83, 169, 128, 111, 25, 178, 25, 176, 37, 74, 94, 48, 38, 25, 127, 137, 57, 25, 24, 165, 169, 57, 129, 7, 17, 169, 106, 101, 157, 133, 161, 169, 9, 24, 52, 114, 163, 22, 169, 115, 8, 10, 178, 145, 147, 10, 134, 105, 10, 135, 138, 134, 5, 10, 183, 197, 2, 106, 147, 197, 23, 130, 117, 108, 111, 188, 195, 3, 43, 118, 130, 93, 177, 37, 139, 111, 178, 35, 99, 134, 3, 4, 126, 139, 120, 161, 59, 199, 182, 29, 72, 34, 65, 107, 18, 34, 64, 44, 58, 159, 13, 95, 170, 34, 143, 57, 72, 88, 88, 24, 120, 116, 56, 69, 47, 81, 96, 97, 7, 144, 175, 47, 111, 42, 23, 47, 40, 174, 19, 20, 149, 193, 40, 70, 198, 79, 9, 89, 168, 17, 162, 114, 117, 17, 187, 70, 76, 108, 158, 197, 17, 57, 119, 12, 60, 140, 9, 155, 129, 140, 24, 115, 140, 15, 140, 28, 24, 52, 81, 103, 160, 52, 53, 138, 106, 148, 170, 98, 83, 29, 120, 29, 64, 37, 29, 132, 77, 124, 63, 71, 187, 19, 28, 71, 101, 184, 38, 115, 116, 71, 186, 24, 48, 132, 162, 13, 56, 107, 159, 24, 41, 111, 4, 58, 24, 6, 24, 15, 8, 162, 60, 91, 160, 46, 98, 158, 172, 159, 46, 28, 101, 124, 105, 26, 28, 133, 28, 119, 104, 106, 144, 173, 81, 58, 49, 124] -----\n",
      "111\n",
      "197\n",
      "3\n",
      "93\n",
      "144\n",
      "15\n",
      "173\n",
      "[53, 61, 183, 42, 69, 115, 133, 163, 95, 51, 21, 125, 56, 23, 39, 66, 9, 22, 66, 107, 43, 56, 2, 11, 187, 129, 66, 157, 89, 136, 69, 100, 86, 129, 14, 166, 11, 103, 129, 111, 129, 171, 192, 195, 5, 37, 41, 129, 19, 27, 128, 68, 117, 127, 195, 8, 16, 68, 180, 13, 22, 101, 58, 149, 124, 150, 195, 5, 91, 112, 154, 13, 112, 146, 51, 112, 72, 144, 12, 55, 196, 181, 2, 135, 153, 141, 78, 32, 190, 175, 27, 59, 73, 78, 95, 64, 128, 136, 78, 184, 41, 184, 178, 114, 83, 177, 90, 79, 9, 36, 199, 7, 36, 79, 36, 179, 180, 80, 18, 41, 48, 87, 62, 87, 172, 3, 93, 96, 108, 154, 87, 175, 45, 45, 56, 13, 197, 45, 56, 170, 31, 159, 197, 104, 4, 6, 15, 54, 100, 197, 131, 159, 8, 49, 159, 74, 31, 93, 31, 60, 65, 156, 105, 16, 146, 152, 20, 21, 51, 61, 131, 174, 196, 76, 85, 137, 171, 126, 186, 37, 44, 42, 101, 19, 108, 190, 173, 23, 26, 184, 172, 197, 23, 2, 32, 137, 6, 97, 184, 64, 186, 6, 72, 143, 72, 173, 33, 33, 61, 73, 176, 33, 166, 150, 49, 33, 45, 146, 1, 21, 33, 191, 99, 135, 134, 151, 26, 131, 51, 99, 90, 145, 195, 14, 45, 77, 72, 45, 80, 155, 102, 154, 45, 32, 55, 191, 151, 165, 126, 90, 35, 104, 76, 93, 27, 189, 185, 73, 86, 82, 16, 102, 100, 151, 51, 63, 195, 156, 59, 94, 63, 176, 65, 42, 39, 5, 18, 163, 43, 42, 174, 93, 185, 54, 90, 48, 150, 96, 118, 183, 32, 155, 3, 20, 170, 32, 54, 177, 70, 94] -----\n",
      "[149, 72, 62, 191, 72, 132, 137, 89, 141, 184, 188, 72, 198, 93, 98, 26, 166, 11, 193, 100, 180, 107, 150, 13, 15, 101, 138, 83, 192, 1, 48, 91, 192, 193, 197, 48, 158, 120, 127, 70, 1, 7, 51, 103, 101, 80, 149, 5, 73, 76, 49, 93, 91, 72, 89, 93, 132, 151, 126, 141, 150, 198, 79, 119, 61, 60, 98, 79, 156] -----\n",
      "[] -----\n"
     ]
    },
    {
     "data": {
      "image/png": "[encoded data removed]",
      "text/plain": [
       "<Figure size 432x288 with 1 Axes>"
      ]
     },
     "metadata": {},
     "output_type": "display_data"
    },
    {
     "name": "stdout",
     "output_type": "stream",
     "text": [
      "{0: [0, 1], 1: [0, 0], 2: [4, 0], 3: [4, 0], 4: [0, 0], 5: [0, 0], 6: [0, 0], 7: [0, 0], 8: [0, 0], 9: [0, 0], 10: [0, 1], 11: [0, 0], 12: [0, 0], 13: [0, 0], 14: [0, 0], 15: [4, 0], 16: [0, 0], 17: [0, 0], 18: [0, 0], 19: [0, 0], 20: [0, 1], 21: [0, 0], 22: [0, 0], 23: [0, 0], 24: [0, 0], 25: [0, 0], 26: [0, 0], 27: [0, 0], 28: [4, 0], 29: [0, 0], 30: [0, 1], 31: [0, 0], 32: [2, 0], 33: [0, 0], 34: [0, 0], 35: [0, 0], 36: [0, 0], 37: [0, 0], 38: [0, 0], 39: [0, 0], 40: [0, 1], 41: [0, 0], 42: [0, 0], 43: [0, 0], 44: [0, 0], 45: [0, 0], 46: [0, 0], 47: [3, 0], 48: [0, 0], 49: [0, 0], 50: [0, 1], 51: [0, 0], 52: [0, 0], 53: [0, 0], 54: [0, 0], 55: [0, 0], 56: [0, 0], 57: [0, 0], 58: [0, 0], 59: [0, 0], 60: [0, 1], 61: [0, 0], 62: [0, 0], 63: [0, 0], 64: [0, 0], 65: [0, 0], 66: [0, 0], 67: [0, 0], 68: [0, 0], 69: [0, 0], 70: [0, 1], 71: [0, 0], 72: [0, 0], 73: [0, 0], 74: [0, 0], 75: [0, 0], 76: [0, 0], 77: [0, 0], 78: [0, 0], 79: [0, 0], 80: [0, 1], 81: [0, 0], 82: [0, 0], 83: [0, 0], 84: [0, 0], 85: [0, 0], 86: [0, 0], 87: [0, 0], 88: [0, 0], 89: [0, 0], 90: [0, 1], 91: [0, 0], 92: [0, 0], 93: [3, 0], 94: [0, 0], 95: [0, 0], 96: [0, 0], 97: [4, 0], 98: [0, 0], 99: [0, 0], 100: [0, 1], 101: [0, 0], 102: [0, 0], 103: [0, 0], 104: [0, 0], 105: [0, 0], 106: [0, 0], 107: [0, 0], 108: [0, 0], 109: [0, 0], 110: [0, 1], 111: [4, 0], 112: [0, 0], 113: [0, 0], 114: [0, 0], 115: [0, 0], 116: [0, 0], 117: [0, 0], 118: [0, 0], 119: [0, 0], 120: [0, 1], 121: [0, 0], 122: [0, 0], 123: [0, 0], 124: [0, 0], 125: [0, 0], 126: [0, 0], 127: [0, 0], 128: [0, 0], 129: [0, 0], 130: [0, 1], 131: [0, 0], 132: [0, 0], 133: [0, 0], 134: [0, 0], 135: [0, 0], 136: [0, 0], 137: [0, 0], 138: [0, 0], 139: [0, 0], 140: [0, 1], 141: [0, 0], 142: [0, 0], 143: [0, 0], 144: [2, 0], 145: [0, 0], 146: [0, 0], 147: [0, 0], 148: [0, 0], 149: [0, 0], 150: [0, 1], 151: [0, 0], 152: [0, 0], 153: [0, 0], 154: [0, 0], 155: [0, 0], 156: [0, 0], 157: [0, 0], 158: [0, 0], 159: [4, 0], 160: [0, 1], 161: [0, 0], 162: [0, 0], 163: [0, 0], 164: [0, 0], 165: [0, 0], 166: [0, 0], 167: [0, 0], 168: [0, 0], 169: [0, 0], 170: [0, 1], 171: [0, 0], 172: [0, 0], 173: [3, 0], 174: [0, 0], 175: [4, 0], 176: [0, 0], 177: [0, 0], 178: [0, 0], 179: [0, 0], 180: [0, 1], 181: [0, 0], 182: [0, 0], 183: [0, 0], 184: [0, 0], 185: [0, 0], 186: [0, 0], 187: [0, 0], 188: [0, 0], 189: [0, 0], 190: [0, 1], 191: [0, 0], 192: [0, 0], 193: [0, 0], 194: [0, 0], 195: [0, 0], 196: [0, 0], 197: [4, 0], 198: [0, 0], 199: [0, 0]}\n",
      "End  824\n"
     ]
    }
   ],
   "source": [
    "net1 = Network()\n",
    "contacts = {}\n",
    "infected = {} # tracks whether you are infected, and if so, when did you get infected\n",
    "k = 0\n",
    "t1 = 0\n",
    "c = 0\n",
    "\n",
    "print(\"Start\")\n",
    "\n",
    "# setup\n",
    "for i in range(tot):\n",
    "    contacts[i] = []\n",
    "    if (c % math.floor(1 / adoption_p) == 0):\n",
    "        infected[i] = [0, 1] # time of infection, app adoption\n",
    "    else:\n",
    "        infected[i] = [0, 0] # time of infection, app adoption\n",
    "    c += 1\n",
    "\n",
    "# this generates {friends} connections for each person, meaning that there will be ~1.5x as many connections as there would be with more careful code\n",
    "for i in range(tot):\n",
    "    for j in range(friends):\n",
    "        if (len(contacts[i]) == friends):\n",
    "            break\n",
    "        r = random.randrange(tot)\n",
    "        while (r == i):\n",
    "            r = random.randrange(tot);\n",
    "        # print(r, j, i, \"--------------\")\n",
    "        # print(r, i, contacts[r], contacts[i])\n",
    "        if (r not in contacts[i]):\n",
    "            contacts[i].append(r)\n",
    "            k += 1\n",
    "        if (i not in contacts[r]):\n",
    "            contacts[r].append(i)\n",
    "            k += 1\n",
    "        # print(r, i, contacts[r], contacts[i])\n",
    "        \n",
    "def infect_step(t):\n",
    "    for person in contacts:\n",
    "        for friend in contacts[person]:\n",
    "            if (infected[friend][0] > 0):\n",
    "                r = random.randrange(0, 100)\n",
    "                if (r < p_infection*100):\n",
    "                    infected[person][0] = t\n",
    "                    net1.add_node(person, label=str(person), color = \"red\")\n",
    "        if (t > infected[person][0] + duration):\n",
    "            infected[person][0] = 0\n",
    "    return(t+1)\n",
    "\n",
    "def check_add_node(target, graph):\n",
    "    if (infected[target][0] > 0):\n",
    "        graph.add_node(target, str(target), color = \"red\")\n",
    "    else:\n",
    "        graph.add_node(target, str(target), color = \"blue\")\n",
    "    return(graph)\n",
    "\n",
    "def waterfall_edges(target, graph, already_graphed):\n",
    "    for friend in contacts[target]:\n",
    "        if (friend not in already_graphed):\n",
    "            already_graphed.append(friend)\n",
    "            check_add_node(friend, graph)\n",
    "            graph.add_edge(target, friend)\n",
    "            waterfall_edges(friend, graph, already_graphed)\n",
    "            \n",
    "def generate_graph(graph):\n",
    "    for person in infected:\n",
    "            check_add_node(person, graph)\n",
    "    for person in contacts:\n",
    "        for friend in contacts[person]:\n",
    "            graph.add_edge(person, friend)\n",
    "            \n",
    "    graph.show(\"graph.html\")\n",
    "    return(graph)\n",
    "            \n",
    "\n",
    "def generate_histogram(targets, contacts):\n",
    "    histo = []\n",
    "    seen = set()\n",
    "    def walk(layer, depth):\n",
    "        print(layer, \"-----\")\n",
    "        if (len(layer) == 0):\n",
    "            return\n",
    "        next_layer = []\n",
    "        n_infected = 0\n",
    "        for target in layer:\n",
    "            if (target not in seen):\n",
    "                seen.add(target)\n",
    "                next_layer += contacts[target]\n",
    "                if (infected[target][0] > 0):\n",
    "                    n_infected += 1\n",
    "                    print(target)\n",
    "        histo.append(n_infected)\n",
    "        walk(next_layer, depth + 1)\n",
    "        \n",
    "    walk(targets, 0)\n",
    "    return histo\n",
    "    \n",
    "\n",
    "infected[2][0] = 1\n",
    "for i in range(steps):\n",
    "    t1 = infect_step(t1)\n",
    "print(contacts)\n",
    "\n",
    "\n",
    "generate_graph(net1)\n",
    "y_axis = generate_histogram([0], contacts)\n",
    "x_axis = []\n",
    "for el in range(len(y_axis)):\n",
    "    x_axis.append(el)\n",
    "plt.plot(x_axis, y_axis, 'or')\n",
    "plt.show()\n",
    "\n",
    "\n",
    "print(infected)\n",
    "print(\"End \", k)"
   ]
  },
  {
   "cell_type": "code",
   "execution_count": 9,
   "metadata": {},
   "outputs": [
    {
     "name": "stdout",
     "output_type": "stream",
     "text": [
      "4\n",
      "[8]\n",
      "[8, 5, 7]\n"
     ]
    }
   ],
   "source": []
  },
  {
   "cell_type": "code",
   "execution_count": null,
   "metadata": {
    "collapsed": true
   },
   "outputs": [],
   "source": []
  }
 ],
 "metadata": {
  "kernelspec": {
   "display_name": "Python 3",
   "language": "python",
   "name": "python3"
  },
  "language_info": {
   "codemirror_mode": {
    "name": "ipython",
    "version": 3
   },
   "file_extension": ".py",
   "mimetype": "text/x-python",
   "name": "python",
   "nbconvert_exporter": "python",
   "pygments_lexer": "ipython3",
   "version": "3.6.2"
  }
 },
 "nbformat": 4,
 "nbformat_minor": 2
}
